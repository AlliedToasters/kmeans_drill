{
 "cells": [
  {
   "cell_type": "code",
   "execution_count": 2,
   "metadata": {
    "collapsed": true,
    "run_control": {
     "frozen": false,
     "read_only": false
    }
   },
   "outputs": [],
   "source": [
    "import numpy as np\n",
    "import pandas as pd\n",
    "import scipy\n",
    "import matplotlib.pyplot as plt\n",
    "import seaborn as sns\n",
    "from sklearn.cluster import KMeans\n",
    "from sklearn.preprocessing import normalize\n",
    "from sklearn.decomposition import PCA\n",
    "from sklearn.cluster import MiniBatchKMeans\n",
    "%matplotlib inline"
   ]
  },
  {
   "cell_type": "markdown",
   "metadata": {
    "run_control": {
     "frozen": false,
     "read_only": false
    }
   },
   "source": [
    "## Drill: More clusters?\n",
    "\n",
    "Your task is to take the $k$-means code here and see what happens when you change the value of $k$.  What solution, if any, do you find most compelling? Does complexity start to become an issue with this data set? Play around a bit and write up your findings and your process to share with your mentor.  Keep in mind that it may be possible to have a solution with more than two clusters that is still better at tracking the real binary outcome – two of those clusters may map to \"heart disease\" while the other maps to \"no heart disease,\" for example."
   ]
  },
  {
   "cell_type": "code",
   "execution_count": 31,
   "metadata": {},
   "outputs": [
    {
     "data": {
      "text/plain": [
       "array([0, 2, 1, 3, 4])"
      ]
     },
     "execution_count": 31,
     "metadata": {},
     "output_type": "execute_result"
    }
   ],
   "source": [
    "df = pd.read_csv(\"cleveland.csv\", header=None, error_bad_lines=False)\n",
    "df.iloc[:, 13].unique()"
   ]
  },
  {
   "cell_type": "code",
   "execution_count": 50,
   "metadata": {
    "run_control": {
     "frozen": false,
     "read_only": false
    }
   },
   "outputs": [],
   "source": [
    "df = pd.read_csv(\"cleveland.csv\", header=None, error_bad_lines=False)\n",
    "\n",
    "# Define the features and the outcome.\n",
    "X = df.iloc[:, :13]\n",
    "y = df.iloc[:, 13]\n",
    "\n",
    "# Replace missing values (marked by ?) with a 0.\n",
    "X = X.replace(to_replace='?', value=0)\n",
    "\n",
    "# Binarize y so that 1 means heart disease diagnosis and 0 means no diagnosis.\n",
    "y = np.where(y > 0, 0, 1)"
   ]
  },
  {
   "cell_type": "markdown",
   "metadata": {
    "run_control": {
     "frozen": false,
     "read_only": false
    }
   },
   "source": [
    "## Try Everything\n",
    "The task is to vary k and see what improves the result. I'll just try every combonation of k and number of principal components and see which one yields the smalles \"error\" when we assign each cluster to its 'best-fit' label."
   ]
  },
  {
   "cell_type": "code",
   "execution_count": 82,
   "metadata": {
    "run_control": {
     "frozen": false,
     "read_only": false
    },
    "scrolled": false
   },
   "outputs": [
    {
     "data": {
      "text/html": [
       "<div>\n",
       "<style>\n",
       "    .dataframe thead tr:only-child th {\n",
       "        text-align: right;\n",
       "    }\n",
       "\n",
       "    .dataframe thead th {\n",
       "        text-align: left;\n",
       "    }\n",
       "\n",
       "    .dataframe tbody tr th {\n",
       "        vertical-align: top;\n",
       "    }\n",
       "</style>\n",
       "<table border=\"1\" class=\"dataframe\">\n",
       "  <thead>\n",
       "    <tr style=\"text-align: right;\">\n",
       "      <th></th>\n",
       "      <th>k</th>\n",
       "      <th>n_components</th>\n",
       "      <th>err</th>\n",
       "    </tr>\n",
       "  </thead>\n",
       "  <tbody>\n",
       "    <tr>\n",
       "      <th>50</th>\n",
       "      <td>6</td>\n",
       "      <td>6</td>\n",
       "      <td>0.323432</td>\n",
       "    </tr>\n",
       "    <tr>\n",
       "      <th>41</th>\n",
       "      <td>6</td>\n",
       "      <td>5</td>\n",
       "      <td>0.323432</td>\n",
       "    </tr>\n",
       "    <tr>\n",
       "      <th>71</th>\n",
       "      <td>9</td>\n",
       "      <td>8</td>\n",
       "      <td>0.323432</td>\n",
       "    </tr>\n",
       "    <tr>\n",
       "      <th>59</th>\n",
       "      <td>6</td>\n",
       "      <td>7</td>\n",
       "      <td>0.323432</td>\n",
       "    </tr>\n",
       "    <tr>\n",
       "      <th>77</th>\n",
       "      <td>6</td>\n",
       "      <td>9</td>\n",
       "      <td>0.323432</td>\n",
       "    </tr>\n",
       "    <tr>\n",
       "      <th>12</th>\n",
       "      <td>4</td>\n",
       "      <td>2</td>\n",
       "      <td>0.323432</td>\n",
       "    </tr>\n",
       "    <tr>\n",
       "      <th>68</th>\n",
       "      <td>6</td>\n",
       "      <td>8</td>\n",
       "      <td>0.323432</td>\n",
       "    </tr>\n",
       "    <tr>\n",
       "      <th>104</th>\n",
       "      <td>6</td>\n",
       "      <td>12</td>\n",
       "      <td>0.326733</td>\n",
       "    </tr>\n",
       "  </tbody>\n",
       "</table>\n",
       "</div>"
      ],
      "text/plain": [
       "     k n_components       err\n",
       "50   6            6  0.323432\n",
       "41   6            5  0.323432\n",
       "71   9            8  0.323432\n",
       "59   6            7  0.323432\n",
       "77   6            9  0.323432\n",
       "12   4            2  0.323432\n",
       "68   6            8  0.323432\n",
       "104  6           12  0.326733"
      ]
     },
     "execution_count": 82,
     "metadata": {},
     "output_type": "execute_result"
    }
   ],
   "source": [
    "X_norm = normalize(X)\n",
    "result = pd.DataFrame(columns=['k', 'n_components', 'err'], index=[])\n",
    "for n in range(1, 13):\n",
    "    for k in range(1, 6):\n",
    "        next_row = pd.DataFrame(columns=result.columns, index=[len(result)])\n",
    "        next_row['k'] = k\n",
    "        next_row['n_components'] = n\n",
    "        \n",
    "        X_pca = PCA(n).fit_transform(X_norm)\n",
    "        y_pred = KMeans(n_clusters=k, random_state=42).fit_predict(X_pca)\n",
    "        tab = pd.crosstab(y_pred, y)\n",
    "        tab['err'] = tab[[0, 1]].min(axis=1)\n",
    "        err = tab.err.sum()/len(df)\n",
    "        next_row['err'] = err\n",
    "        result = pd.concat([result, next_row], axis=0)\n",
    "        \n",
    "result.loc[result.err.sort_values().index].head(8)"
   ]
  },
  {
   "cell_type": "markdown",
   "metadata": {},
   "source": [
    "## Result\n",
    "For k<10, the most compelling \"best\" combination is where k=4 and n_components = 2. I like this one because I like simple. Let's see what this looks like:"
   ]
  },
  {
   "cell_type": "code",
   "execution_count": 89,
   "metadata": {},
   "outputs": [
    {
     "data": {
      "image/png": "[encoded data removed]",
      "text/plain": [
       "<matplotlib.figure.Figure at 0x7f69e9c52860>"
      ]
     },
     "metadata": {},
     "output_type": "display_data"
    },
    {
     "name": "stdout",
     "output_type": "stream",
     "text": [
      "Comparing k-means clusters against the data:\n",
      "col_0   0   1  err\n",
      "row_0             \n",
      "0      40  21   21\n",
      "1      37  67   37\n",
      "2      42  20   20\n",
      "3      20  56   20\n",
      "error rate:  32.34 %\n"
     ]
    }
   ],
   "source": [
    "\n",
    "X_pca = PCA(2).fit_transform(X_norm)\n",
    "y_pred = KMeans(n_clusters=4, random_state=42).fit_predict(X_pca)\n",
    "\n",
    "#Plot the solution.\n",
    "\n",
    "plt.scatter(X_pca[:, 0], X_pca[:, 1], c=y_pred, cmap='autumn')\n",
    "plt.show()\n",
    "\n",
    "# Check the solution against the data.\n",
    "print('Comparing k-means clusters against the data:')\n",
    "tab = pd.crosstab(y_pred, y)\n",
    "tab['err'] = tab[[0, 1]].min(axis=1)\n",
    "acc = tab.err.sum()/len(df)\n",
    "print(tab)\n",
    "print('error rate: ', str(100*acc)[:5], '%')"
   ]
  },
  {
   "cell_type": "markdown",
   "metadata": {},
   "source": [
    "## Can we get any farther?\n",
    "Now I'll vary k a lot. Up to a rediculous number like 100. We'll see if we can improve our error rate any further:"
   ]
  },
  {
   "cell_type": "code",
   "execution_count": 87,
   "metadata": {},
   "outputs": [
    {
     "data": {
      "text/html": [
       "<div>\n",
       "<style>\n",
       "    .dataframe thead tr:only-child th {\n",
       "        text-align: right;\n",
       "    }\n",
       "\n",
       "    .dataframe thead th {\n",
       "        text-align: left;\n",
       "    }\n",
       "\n",
       "    .dataframe tbody tr th {\n",
       "        vertical-align: top;\n",
       "    }\n",
       "</style>\n",
       "<table border=\"1\" class=\"dataframe\">\n",
       "  <thead>\n",
       "    <tr style=\"text-align: right;\">\n",
       "      <th></th>\n",
       "      <th>k</th>\n",
       "      <th>n_components</th>\n",
       "      <th>err</th>\n",
       "    </tr>\n",
       "  </thead>\n",
       "  <tbody>\n",
       "    <tr>\n",
       "      <th>880</th>\n",
       "      <td>89</td>\n",
       "      <td>9</td>\n",
       "      <td>0.198020</td>\n",
       "    </tr>\n",
       "    <tr>\n",
       "      <th>591</th>\n",
       "      <td>97</td>\n",
       "      <td>6</td>\n",
       "      <td>0.204620</td>\n",
       "    </tr>\n",
       "    <tr>\n",
       "      <th>689</th>\n",
       "      <td>96</td>\n",
       "      <td>7</td>\n",
       "      <td>0.204620</td>\n",
       "    </tr>\n",
       "    <tr>\n",
       "      <th>587</th>\n",
       "      <td>93</td>\n",
       "      <td>6</td>\n",
       "      <td>0.207921</td>\n",
       "    </tr>\n",
       "    <tr>\n",
       "      <th>791</th>\n",
       "      <td>99</td>\n",
       "      <td>8</td>\n",
       "      <td>0.211221</td>\n",
       "    </tr>\n",
       "    <tr>\n",
       "      <th>590</th>\n",
       "      <td>96</td>\n",
       "      <td>6</td>\n",
       "      <td>0.211221</td>\n",
       "    </tr>\n",
       "    <tr>\n",
       "      <th>1181</th>\n",
       "      <td>93</td>\n",
       "      <td>12</td>\n",
       "      <td>0.211221</td>\n",
       "    </tr>\n",
       "    <tr>\n",
       "      <th>981</th>\n",
       "      <td>91</td>\n",
       "      <td>10</td>\n",
       "      <td>0.211221</td>\n",
       "    </tr>\n",
       "  </tbody>\n",
       "</table>\n",
       "</div>"
      ],
      "text/plain": [
       "       k n_components       err\n",
       "880   89            9  0.198020\n",
       "591   97            6  0.204620\n",
       "689   96            7  0.204620\n",
       "587   93            6  0.207921\n",
       "791   99            8  0.211221\n",
       "590   96            6  0.211221\n",
       "1181  93           12  0.211221\n",
       "981   91           10  0.211221"
      ]
     },
     "execution_count": 87,
     "metadata": {},
     "output_type": "execute_result"
    }
   ],
   "source": [
    "X_norm = normalize(X)\n",
    "result = pd.DataFrame(columns=['k', 'n_components', 'err'], index=[])\n",
    "for n in range(1, 13):\n",
    "    for k in range(1, 100):\n",
    "        next_row = pd.DataFrame(columns=result.columns, index=[len(result)])\n",
    "        next_row['k'] = k\n",
    "        next_row['n_components'] = n\n",
    "        \n",
    "        X_pca = PCA(n).fit_transform(X_norm)\n",
    "        y_pred = KMeans(n_clusters=k, random_state=42).fit_predict(X_pca)\n",
    "        tab = pd.crosstab(y_pred, y)\n",
    "        tab['err'] = tab[[0, 1]].min(axis=1)\n",
    "        err = tab.err.sum()/len(df)\n",
    "        next_row['err'] = err\n",
    "        result = pd.concat([result, next_row], axis=0)\n",
    "        \n",
    "result.loc[result.err.sort_values().index].head(8)"
   ]
  },
  {
   "cell_type": "markdown",
   "metadata": {},
   "source": [
    "## Result\n",
    "We are able to improve on our error rate quite a bit, but at the cost of complexity. Our best result is with 89 clusters and 9 principal components, so it's not simple by any means. Importantly, the mean cluster size here is 89/303 ~ 4 samples/cluster. This is a strong sign of \"overfitting.\" If we look at the plot, there's really no clear pattern going on."
   ]
  },
  {
   "cell_type": "code",
   "execution_count": 88,
   "metadata": {},
   "outputs": [
    {
     "data": {
      "image/png": "[encoded data removed]",
      "text/plain": [
       "<matplotlib.figure.Figure at 0x7f69ea050c88>"
      ]
     },
     "metadata": {},
     "output_type": "display_data"
    },
    {
     "name": "stdout",
     "output_type": "stream",
     "text": [
      "Comparing k-means clusters against the data:\n",
      "col_0  0  1  err\n",
      "row_0           \n",
      "0      1  3    1\n",
      "1      0  1    0\n",
      "2      4  5    4\n",
      "3      1  3    1\n",
      "4      4  2    2\n",
      "5      1  1    1\n",
      "6      0  3    0\n",
      "7      1  1    1\n",
      "8      2  1    1\n",
      "9      1  0    0\n",
      "10     1  3    1\n",
      "11     1  4    1\n",
      "12     2  4    2\n",
      "13     2  2    2\n",
      "14     0  2    0\n",
      "15     6  3    3\n",
      "16     2  0    0\n",
      "17     0  3    0\n",
      "18     1  4    1\n",
      "19     0  8    0\n",
      "20     0  1    0\n",
      "21     4  2    2\n",
      "22     4  0    0\n",
      "23     1  1    1\n",
      "24     2  0    0\n",
      "25     5  1    1\n",
      "26     1  0    0\n",
      "27     0  1    0\n",
      "28     0  1    0\n",
      "29     0  5    0\n",
      "...   .. ..  ...\n",
      "59     2  0    0\n",
      "60     1  1    1\n",
      "61     2  4    2\n",
      "62     0  3    0\n",
      "63     1  2    1\n",
      "64     1  3    1\n",
      "65     0  1    0\n",
      "66     0  5    0\n",
      "67     3  0    0\n",
      "68     1  1    1\n",
      "69     1  2    1\n",
      "70     0  2    0\n",
      "71     2  0    0\n",
      "72     2  2    2\n",
      "73     2  0    0\n",
      "74     0  1    0\n",
      "75     3  3    3\n",
      "76     1  1    1\n",
      "77     3  0    0\n",
      "78     3  0    0\n",
      "79     0  3    0\n",
      "80     3  0    0\n",
      "81     0  1    0\n",
      "82     2  1    1\n",
      "83     0  1    0\n",
      "84     0  1    0\n",
      "85     2  1    1\n",
      "86     1  0    0\n",
      "87     3  0    0\n",
      "88     3  2    2\n",
      "\n",
      "[89 rows x 3 columns]\n",
      "error rate:  19.80 %\n"
     ]
    }
   ],
   "source": [
    "X_pca = PCA(9).fit_transform(X_norm)\n",
    "y_pred = KMeans(n_clusters=89, random_state=42).fit_predict(X_pca)\n",
    "\n",
    "#Plot the solution.\n",
    "\n",
    "plt.scatter(X_pca[:, 0], X_pca[:, 1], c=y_pred, cmap='autumn')\n",
    "plt.show()\n",
    "\n",
    "# Check the solution against the data.\n",
    "print('Comparing k-means clusters against the data:')\n",
    "tab = pd.crosstab(y_pred, y)\n",
    "tab['err'] = tab[[0, 1]].min(axis=1)\n",
    "acc = tab.err.sum()/len(df)\n",
    "print(tab)\n",
    "print('error rate: ', str(100*acc)[:5], '%')"
   ]
  },
  {
   "cell_type": "markdown",
   "metadata": {
    "run_control": {
     "frozen": false,
     "read_only": false
    }
   },
   "source": [
    "We can see that we gain very little descriptive or modeling power by increasing k so much, even though it is more accurate this way. "
   ]
  },
  {
   "cell_type": "code",
   "execution_count": null,
   "metadata": {
    "collapsed": true
   },
   "outputs": [],
   "source": []
  }
 ],
 "metadata": {
  "anaconda-cloud": {},
  "hide_input": false,
  "kernelspec": {
   "display_name": "Python 3",
   "language": "python",
   "name": "python3"
  },
  "language_info": {
   "codemirror_mode": {
    "name": "ipython",
    "version": 3
   },
   "file_extension": ".py",
   "mimetype": "text/x-python",
   "name": "python",
   "nbconvert_exporter": "python",
   "pygments_lexer": "ipython3",
   "version": "3.6.1"
  },
  "toc": {
   "colors": {
    "hover_highlight": "#DAA520",
    "running_highlight": "#FF0000",
    "selected_highlight": "#FFD700"
   },
   "moveMenuLeft": true,
   "nav_menu": {
    "height": "68px",
    "width": "252px"
   },
   "navigate_menu": true,
   "number_sections": true,
   "sideBar": true,
   "threshold": 4,
   "toc_cell": false,
   "toc_section_display": "block",
   "toc_window_display": false
  }
 },
 "nbformat": 4,
 "nbformat_minor": 2
}
